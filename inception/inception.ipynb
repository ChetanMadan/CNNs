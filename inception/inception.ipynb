{
  "nbformat": 4,
  "nbformat_minor": 0,
  "metadata": {
    "colab": {
      "name": "inception.ipynb",
      "version": "0.3.2",
      "provenance": [],
      "include_colab_link": true
    },
    "language_info": {
      "codemirror_mode": {
        "name": "ipython",
        "version": 3
      },
      "file_extension": ".py",
      "mimetype": "text/x-python",
      "name": "python",
      "nbconvert_exporter": "python",
      "pygments_lexer": "ipython3",
      "version": "3.6.8"
    },
    "kernelspec": {
      "name": "python3",
      "display_name": "Python 3"
    },
    "accelerator": "GPU"
  },
  "cells": [
    {
      "cell_type": "markdown",
      "metadata": {
        "id": "view-in-github",
        "colab_type": "text"
      },
      "source": [
        "<a href=\"https://colab.research.google.com/github/ChetanMadan/CNNs/blob/master/inception/inception.ipynb\" target=\"_parent\"><img src=\"https://colab.research.google.com/assets/colab-badge.svg\" alt=\"Open In Colab\"/></a>"
      ]
    },
    {
      "metadata": {
        "id": "ToV9tzqQdXwV",
        "colab_type": "code",
        "colab": {}
      },
      "cell_type": "code",
      "source": [
        "import pandas\n",
        "import numpy as np\n",
        "import math\n",
        "import matplotlib.pyplot as plt"
      ],
      "execution_count": 0,
      "outputs": []
    },
    {
      "metadata": {
        "id": "ZEX0N8KedXwq",
        "colab_type": "code",
        "colab": {
          "base_uri": "https://localhost:8080/",
          "height": 34
        },
        "outputId": "32589cf3-fd38-40ec-9d85-850aa87c18b6"
      },
      "cell_type": "code",
      "source": [
        "import tensorflow as tf\n",
        "import keras"
      ],
      "execution_count": 2,
      "outputs": [
        {
          "output_type": "stream",
          "text": [
            "Using TensorFlow backend.\n"
          ],
          "name": "stderr"
        }
      ]
    },
    {
      "metadata": {
        "id": "-RiBTzqldXw2",
        "colab_type": "code",
        "colab": {}
      },
      "cell_type": "code",
      "source": [
        "from keras.layers import Conv2D, MaxPooling2D, Input, Dropout, Dense\n",
        "from keras.layers import AveragePooling2D, Flatten, GlobalAveragePooling2D\n",
        "\n",
        "from keras.models import Model, Sequential\n",
        "from keras.utils import plot_model, print_summary\n",
        "from keras.layers.merge import concatenate"
      ],
      "execution_count": 0,
      "outputs": []
    },
    {
      "metadata": {
        "id": "7nXdzjgfdXw9",
        "colab_type": "code",
        "colab": {}
      },
      "cell_type": "code",
      "source": [
        "from keras.layers.core import Layer\n",
        "from keras.datasets import cifar10\n",
        "import cv2\n",
        "from keras.utils import np_utils\n",
        "import keras.backend as K"
      ],
      "execution_count": 0,
      "outputs": []
    },
    {
      "metadata": {
        "id": "fhztddfxdXxD",
        "colab_type": "code",
        "colab": {}
      },
      "cell_type": "code",
      "source": [
        "from keras.optimizers import SGD\n",
        "from keras.callbacks import LearningRateScheduler"
      ],
      "execution_count": 0,
      "outputs": []
    },
    {
      "metadata": {
        "id": "ThaHphVAdXxJ",
        "colab_type": "code",
        "colab": {}
      },
      "cell_type": "code",
      "source": [
        "num_classes=10"
      ],
      "execution_count": 0,
      "outputs": []
    },
    {
      "metadata": {
        "id": "BQRTgJH6dXxN",
        "colab_type": "code",
        "colab": {}
      },
      "cell_type": "code",
      "source": [
        "def load_cifar10_data(img_rows, img_cols):\n",
        "\n",
        "    # Load cifar10 training and validation sets\n",
        "    (X_train, Y_train), (X_valid, Y_valid) = cifar10.load_data()\n",
        "\n",
        "    # Resize training images\n",
        "    X_train = np.array([cv2.resize(img, (img_rows,img_cols)) for img in X_train[:,:,:,:]])\n",
        "    X_valid = np.array([cv2.resize(img, (img_rows,img_cols)) for img in X_valid[:,:,:,:]])\n",
        "\n",
        "    # Transform targets to keras compatible format\n",
        "    Y_train = np_utils.to_categorical(Y_train, num_classes)\n",
        "    Y_valid = np_utils.to_categorical(Y_valid, num_classes)\n",
        "    \n",
        "    X_train = X_train.astype('float32')\n",
        "    X_valid = X_valid.astype('float32')\n",
        "\n",
        "    # preprocess data\n",
        "    X_train = X_train / 255.0\n",
        "    X_valid = X_valid / 255.0\n",
        "\n",
        "    return X_train, Y_train, X_valid, Y_valid"
      ],
      "execution_count": 0,
      "outputs": []
    },
    {
      "metadata": {
        "id": "IvfQ69vddXxT",
        "colab_type": "code",
        "colab": {}
      },
      "cell_type": "code",
      "source": [
        ""
      ],
      "execution_count": 0,
      "outputs": []
    },
    {
      "metadata": {
        "id": "2DM0HZe3dXxY",
        "colab_type": "code",
        "colab": {}
      },
      "cell_type": "code",
      "source": [
        "X_train, y_train, X_test, y_test = load_cifar10_data(56,56)"
      ],
      "execution_count": 0,
      "outputs": []
    },
    {
      "metadata": {
        "id": "oB5c3yJIdXxg",
        "colab_type": "code",
        "colab": {}
      },
      "cell_type": "code",
      "source": [
        "kernel_init = keras.initializers.glorot_uniform()\n",
        "bias_init = keras.initializers.Constant(value=0.2)"
      ],
      "execution_count": 0,
      "outputs": []
    },
    {
      "metadata": {
        "id": "OyPTKD73dXxr",
        "colab_type": "code",
        "colab": {}
      },
      "cell_type": "code",
      "source": [
        ""
      ],
      "execution_count": 0,
      "outputs": []
    },
    {
      "metadata": {
        "id": "3kP86BH7dXxx",
        "colab_type": "code",
        "colab": {}
      },
      "cell_type": "code",
      "source": [
        ""
      ],
      "execution_count": 0,
      "outputs": []
    },
    {
      "metadata": {
        "id": "3Ds2WYn4dXx1",
        "colab_type": "code",
        "colab": {}
      },
      "cell_type": "code",
      "source": [
        "def inception_module(x,\n",
        "                     filters_1x1,\n",
        "                     filters_3x3_reduce,\n",
        "                     filters_3x3,\n",
        "                     filters_5x5_reduce,\n",
        "                     filters_5x5,\n",
        "                     filters_pool_proj,\n",
        "                     name=None):\n",
        "    \n",
        "    conv_1x1 = Conv2D(filters_1x1, (1, 1), padding='same', activation='relu', kernel_initializer=kernel_init, bias_initializer=bias_init)(x)\n",
        "    \n",
        "    conv_3x3 = Conv2D(filters_3x3_reduce, (1, 1), padding='same', activation='relu', kernel_initializer=kernel_init, bias_initializer=bias_init)(x)\n",
        "    conv_3x3 = Conv2D(filters_3x3, (3, 3), padding='same', activation='relu', kernel_initializer=kernel_init, bias_initializer=bias_init)(conv_3x3)\n",
        "\n",
        "    conv_5x5 = Conv2D(filters_5x5_reduce, (1, 1), padding='same', activation='relu', kernel_initializer=kernel_init, bias_initializer=bias_init)(x)\n",
        "    conv_5x5 = Conv2D(filters_5x5, (5, 5), padding='same', activation='relu', kernel_initializer=kernel_init, bias_initializer=bias_init)(conv_5x5)\n",
        "\n",
        "    pool_proj = MaxPooling2D((3, 3), strides=(1, 1), padding='same')(x)\n",
        "    pool_proj = Conv2D(filters_pool_proj, (1, 1), padding='same', activation='relu', kernel_initializer=kernel_init, bias_initializer=bias_init)(pool_proj)\n",
        "\n",
        "    output = concatenate([conv_1x1, conv_3x3, conv_5x5, pool_proj], axis=3, name=name)\n",
        "    \n",
        "    return output"
      ],
      "execution_count": 0,
      "outputs": []
    },
    {
      "metadata": {
        "id": "OTSdJlrfdXx6",
        "colab_type": "code",
        "colab": {}
      },
      "cell_type": "code",
      "source": [
        ""
      ],
      "execution_count": 0,
      "outputs": []
    },
    {
      "metadata": {
        "id": "5yfe6mIAdXx9",
        "colab_type": "code",
        "colab": {}
      },
      "cell_type": "code",
      "source": [
        ""
      ],
      "execution_count": 0,
      "outputs": []
    },
    {
      "metadata": {
        "id": "AwSGKwsxdXyB",
        "colab_type": "code",
        "colab": {
          "base_uri": "https://localhost:8080/",
          "height": 141
        },
        "outputId": "3229eef6-8b4c-477d-84d6-f2afe3ea7ab4"
      },
      "cell_type": "code",
      "source": [
        "input_layer = Input(shape=(56, 56, 3))\n",
        "x = Conv2D(64, (7, 7), padding='same', strides=(2, 2), activation='relu', name='conv_1_7x7/2', kernel_initializer=kernel_init, bias_initializer=bias_init)(input_layer)\n",
        "x = MaxPooling2D((3, 3), padding='same', strides=(2, 2), name='max_pool_1_3x3/2')(x)\n",
        "x = Conv2D(64, (1, 1), padding='same', strides=(1, 1), activation='relu', name='conv_2a_3x3/1')(x)\n",
        "x = Conv2D(192, (3, 3), padding='same', strides=(1, 1), activation='relu', name='conv_2b_3x3/1')(x)\n",
        "x = MaxPooling2D((3, 3), padding='same', strides=(2, 2), name='max_pool_2_3x3/2')(x)\n",
        "\n",
        "x = inception_module(x,64,96,128,16,32,32,\n",
        "                     name='inception_3a')\n",
        "\n",
        "x = inception_module(x,128,128,192,32,96,64,\n",
        "                     name='inception_3b')\n",
        "\n",
        "x = MaxPooling2D((3, 3), padding='same', strides=(2, 2), name='max_pool_3_3x3/2')(x)\n",
        "\n",
        "x = inception_module(x,192,96,208,16,48,64,\n",
        "                     name='inception_4a')\n",
        "\n",
        "\n",
        "x1 = Conv2D(128, (1, 1), padding='same', activation='relu')(x)\n",
        "x1 = Flatten()(x1)\n",
        "x1 = Dense(1024, activation='relu')(x1)\n",
        "x1 = Dropout(0.7)(x1)\n",
        "x1 = Dense(10, activation='softmax', name='auxilliary_output_1')(x1)\n",
        "\n",
        "x = inception_module(x,160,112,224,24,64,64,\n",
        "                     name='inception_4b')\n",
        "\n",
        "x = inception_module(x,128,128,256,24,64,64,\n",
        "                     name='inception_4c')\n",
        "\n",
        "x = inception_module(x,112,144,288,32,64,64,\n",
        "                     name='inception_4d')\n",
        "\n",
        "\n",
        "x2 = Conv2D(128, (1, 1), padding='same', activation='relu')(x)\n",
        "x2 = Flatten()(x2)\n",
        "x2 = Dense(1024, activation='relu')(x2)\n",
        "x2 = Dropout(0.7)(x2)\n",
        "x2 = Dense(10, activation='softmax', name='auxilliary_output_2')(x2)\n",
        "\n",
        "x = inception_module(x,256,160,320,32,128,128,name='inception_4e')\n",
        "\n",
        "x = MaxPooling2D((3, 3), padding='same', strides=(2, 2), name='max_pool_4_3x3/2')(x)\n",
        "\n",
        "x = inception_module(x,256,160,320,32,128,128,\n",
        "                     name='inception_5a')\n",
        "\n",
        "x = inception_module(x,384,192,384,48,128,128,\n",
        "                     name='inception_5b')\n",
        "\n",
        "x = GlobalAveragePooling2D(name='avg_pool_5_3x3/1')(x)\n",
        "\n",
        "x = Dropout(0.4)(x)\n",
        "\n",
        "x = Dense(10, activation='softmax', name='output')(x)"
      ],
      "execution_count": 11,
      "outputs": [
        {
          "output_type": "stream",
          "text": [
            "WARNING:tensorflow:From /usr/local/lib/python3.6/dist-packages/tensorflow/python/framework/op_def_library.py:263: colocate_with (from tensorflow.python.framework.ops) is deprecated and will be removed in a future version.\n",
            "Instructions for updating:\n",
            "Colocations handled automatically by placer.\n",
            "WARNING:tensorflow:From /usr/local/lib/python3.6/dist-packages/keras/backend/tensorflow_backend.py:3445: calling dropout (from tensorflow.python.ops.nn_ops) with keep_prob is deprecated and will be removed in a future version.\n",
            "Instructions for updating:\n",
            "Please use `rate` instead of `keep_prob`. Rate should be set to `rate = 1 - keep_prob`.\n"
          ],
          "name": "stdout"
        }
      ]
    },
    {
      "metadata": {
        "id": "SK_HgfGqdXyJ",
        "colab_type": "code",
        "colab": {}
      },
      "cell_type": "code",
      "source": [
        "model = Model(input_layer, [x, x1, x2], name='inception_v1')"
      ],
      "execution_count": 0,
      "outputs": []
    },
    {
      "metadata": {
        "id": "CBJ6lmr-dXyM",
        "colab_type": "code",
        "colab": {
          "base_uri": "https://localhost:8080/",
          "height": 3838
        },
        "outputId": "ba5a5bfc-7ad4-4d6c-d233-5a0ab026915c"
      },
      "cell_type": "code",
      "source": [
        "model.summary()"
      ],
      "execution_count": 13,
      "outputs": [
        {
          "output_type": "stream",
          "text": [
            "__________________________________________________________________________________________________\n",
            "Layer (type)                    Output Shape         Param #     Connected to                     \n",
            "==================================================================================================\n",
            "input_1 (InputLayer)            (None, 56, 56, 3)    0                                            \n",
            "__________________________________________________________________________________________________\n",
            "conv_1_7x7/2 (Conv2D)           (None, 28, 28, 64)   9472        input_1[0][0]                    \n",
            "__________________________________________________________________________________________________\n",
            "max_pool_1_3x3/2 (MaxPooling2D) (None, 14, 14, 64)   0           conv_1_7x7/2[0][0]               \n",
            "__________________________________________________________________________________________________\n",
            "conv_2a_3x3/1 (Conv2D)          (None, 14, 14, 64)   4160        max_pool_1_3x3/2[0][0]           \n",
            "__________________________________________________________________________________________________\n",
            "conv_2b_3x3/1 (Conv2D)          (None, 14, 14, 192)  110784      conv_2a_3x3/1[0][0]              \n",
            "__________________________________________________________________________________________________\n",
            "max_pool_2_3x3/2 (MaxPooling2D) (None, 7, 7, 192)    0           conv_2b_3x3/1[0][0]              \n",
            "__________________________________________________________________________________________________\n",
            "conv2d_2 (Conv2D)               (None, 7, 7, 96)     18528       max_pool_2_3x3/2[0][0]           \n",
            "__________________________________________________________________________________________________\n",
            "conv2d_4 (Conv2D)               (None, 7, 7, 16)     3088        max_pool_2_3x3/2[0][0]           \n",
            "__________________________________________________________________________________________________\n",
            "max_pooling2d_1 (MaxPooling2D)  (None, 7, 7, 192)    0           max_pool_2_3x3/2[0][0]           \n",
            "__________________________________________________________________________________________________\n",
            "conv2d_1 (Conv2D)               (None, 7, 7, 64)     12352       max_pool_2_3x3/2[0][0]           \n",
            "__________________________________________________________________________________________________\n",
            "conv2d_3 (Conv2D)               (None, 7, 7, 128)    110720      conv2d_2[0][0]                   \n",
            "__________________________________________________________________________________________________\n",
            "conv2d_5 (Conv2D)               (None, 7, 7, 32)     12832       conv2d_4[0][0]                   \n",
            "__________________________________________________________________________________________________\n",
            "conv2d_6 (Conv2D)               (None, 7, 7, 32)     6176        max_pooling2d_1[0][0]            \n",
            "__________________________________________________________________________________________________\n",
            "inception_3a (Concatenate)      (None, 7, 7, 256)    0           conv2d_1[0][0]                   \n",
            "                                                                 conv2d_3[0][0]                   \n",
            "                                                                 conv2d_5[0][0]                   \n",
            "                                                                 conv2d_6[0][0]                   \n",
            "__________________________________________________________________________________________________\n",
            "conv2d_8 (Conv2D)               (None, 7, 7, 128)    32896       inception_3a[0][0]               \n",
            "__________________________________________________________________________________________________\n",
            "conv2d_10 (Conv2D)              (None, 7, 7, 32)     8224        inception_3a[0][0]               \n",
            "__________________________________________________________________________________________________\n",
            "max_pooling2d_2 (MaxPooling2D)  (None, 7, 7, 256)    0           inception_3a[0][0]               \n",
            "__________________________________________________________________________________________________\n",
            "conv2d_7 (Conv2D)               (None, 7, 7, 128)    32896       inception_3a[0][0]               \n",
            "__________________________________________________________________________________________________\n",
            "conv2d_9 (Conv2D)               (None, 7, 7, 192)    221376      conv2d_8[0][0]                   \n",
            "__________________________________________________________________________________________________\n",
            "conv2d_11 (Conv2D)              (None, 7, 7, 96)     76896       conv2d_10[0][0]                  \n",
            "__________________________________________________________________________________________________\n",
            "conv2d_12 (Conv2D)              (None, 7, 7, 64)     16448       max_pooling2d_2[0][0]            \n",
            "__________________________________________________________________________________________________\n",
            "inception_3b (Concatenate)      (None, 7, 7, 480)    0           conv2d_7[0][0]                   \n",
            "                                                                 conv2d_9[0][0]                   \n",
            "                                                                 conv2d_11[0][0]                  \n",
            "                                                                 conv2d_12[0][0]                  \n",
            "__________________________________________________________________________________________________\n",
            "max_pool_3_3x3/2 (MaxPooling2D) (None, 4, 4, 480)    0           inception_3b[0][0]               \n",
            "__________________________________________________________________________________________________\n",
            "conv2d_14 (Conv2D)              (None, 4, 4, 96)     46176       max_pool_3_3x3/2[0][0]           \n",
            "__________________________________________________________________________________________________\n",
            "conv2d_16 (Conv2D)              (None, 4, 4, 16)     7696        max_pool_3_3x3/2[0][0]           \n",
            "__________________________________________________________________________________________________\n",
            "max_pooling2d_3 (MaxPooling2D)  (None, 4, 4, 480)    0           max_pool_3_3x3/2[0][0]           \n",
            "__________________________________________________________________________________________________\n",
            "conv2d_13 (Conv2D)              (None, 4, 4, 192)    92352       max_pool_3_3x3/2[0][0]           \n",
            "__________________________________________________________________________________________________\n",
            "conv2d_15 (Conv2D)              (None, 4, 4, 208)    179920      conv2d_14[0][0]                  \n",
            "__________________________________________________________________________________________________\n",
            "conv2d_17 (Conv2D)              (None, 4, 4, 48)     19248       conv2d_16[0][0]                  \n",
            "__________________________________________________________________________________________________\n",
            "conv2d_18 (Conv2D)              (None, 4, 4, 64)     30784       max_pooling2d_3[0][0]            \n",
            "__________________________________________________________________________________________________\n",
            "inception_4a (Concatenate)      (None, 4, 4, 512)    0           conv2d_13[0][0]                  \n",
            "                                                                 conv2d_15[0][0]                  \n",
            "                                                                 conv2d_17[0][0]                  \n",
            "                                                                 conv2d_18[0][0]                  \n",
            "__________________________________________________________________________________________________\n",
            "conv2d_21 (Conv2D)              (None, 4, 4, 112)    57456       inception_4a[0][0]               \n",
            "__________________________________________________________________________________________________\n",
            "conv2d_23 (Conv2D)              (None, 4, 4, 24)     12312       inception_4a[0][0]               \n",
            "__________________________________________________________________________________________________\n",
            "max_pooling2d_4 (MaxPooling2D)  (None, 4, 4, 512)    0           inception_4a[0][0]               \n",
            "__________________________________________________________________________________________________\n",
            "conv2d_20 (Conv2D)              (None, 4, 4, 160)    82080       inception_4a[0][0]               \n",
            "__________________________________________________________________________________________________\n",
            "conv2d_22 (Conv2D)              (None, 4, 4, 224)    226016      conv2d_21[0][0]                  \n",
            "__________________________________________________________________________________________________\n",
            "conv2d_24 (Conv2D)              (None, 4, 4, 64)     38464       conv2d_23[0][0]                  \n",
            "__________________________________________________________________________________________________\n",
            "conv2d_25 (Conv2D)              (None, 4, 4, 64)     32832       max_pooling2d_4[0][0]            \n",
            "__________________________________________________________________________________________________\n",
            "inception_4b (Concatenate)      (None, 4, 4, 512)    0           conv2d_20[0][0]                  \n",
            "                                                                 conv2d_22[0][0]                  \n",
            "                                                                 conv2d_24[0][0]                  \n",
            "                                                                 conv2d_25[0][0]                  \n",
            "__________________________________________________________________________________________________\n",
            "conv2d_27 (Conv2D)              (None, 4, 4, 128)    65664       inception_4b[0][0]               \n",
            "__________________________________________________________________________________________________\n",
            "conv2d_29 (Conv2D)              (None, 4, 4, 24)     12312       inception_4b[0][0]               \n",
            "__________________________________________________________________________________________________\n",
            "max_pooling2d_5 (MaxPooling2D)  (None, 4, 4, 512)    0           inception_4b[0][0]               \n",
            "__________________________________________________________________________________________________\n",
            "conv2d_26 (Conv2D)              (None, 4, 4, 128)    65664       inception_4b[0][0]               \n",
            "__________________________________________________________________________________________________\n",
            "conv2d_28 (Conv2D)              (None, 4, 4, 256)    295168      conv2d_27[0][0]                  \n",
            "__________________________________________________________________________________________________\n",
            "conv2d_30 (Conv2D)              (None, 4, 4, 64)     38464       conv2d_29[0][0]                  \n",
            "__________________________________________________________________________________________________\n",
            "conv2d_31 (Conv2D)              (None, 4, 4, 64)     32832       max_pooling2d_5[0][0]            \n",
            "__________________________________________________________________________________________________\n",
            "inception_4c (Concatenate)      (None, 4, 4, 512)    0           conv2d_26[0][0]                  \n",
            "                                                                 conv2d_28[0][0]                  \n",
            "                                                                 conv2d_30[0][0]                  \n",
            "                                                                 conv2d_31[0][0]                  \n",
            "__________________________________________________________________________________________________\n",
            "conv2d_33 (Conv2D)              (None, 4, 4, 144)    73872       inception_4c[0][0]               \n",
            "__________________________________________________________________________________________________\n",
            "conv2d_35 (Conv2D)              (None, 4, 4, 32)     16416       inception_4c[0][0]               \n",
            "__________________________________________________________________________________________________\n",
            "max_pooling2d_6 (MaxPooling2D)  (None, 4, 4, 512)    0           inception_4c[0][0]               \n",
            "__________________________________________________________________________________________________\n",
            "conv2d_32 (Conv2D)              (None, 4, 4, 112)    57456       inception_4c[0][0]               \n",
            "__________________________________________________________________________________________________\n",
            "conv2d_34 (Conv2D)              (None, 4, 4, 288)    373536      conv2d_33[0][0]                  \n",
            "__________________________________________________________________________________________________\n",
            "conv2d_36 (Conv2D)              (None, 4, 4, 64)     51264       conv2d_35[0][0]                  \n",
            "__________________________________________________________________________________________________\n",
            "conv2d_37 (Conv2D)              (None, 4, 4, 64)     32832       max_pooling2d_6[0][0]            \n",
            "__________________________________________________________________________________________________\n",
            "inception_4d (Concatenate)      (None, 4, 4, 528)    0           conv2d_32[0][0]                  \n",
            "                                                                 conv2d_34[0][0]                  \n",
            "                                                                 conv2d_36[0][0]                  \n",
            "                                                                 conv2d_37[0][0]                  \n",
            "__________________________________________________________________________________________________\n",
            "conv2d_40 (Conv2D)              (None, 4, 4, 160)    84640       inception_4d[0][0]               \n",
            "__________________________________________________________________________________________________\n",
            "conv2d_42 (Conv2D)              (None, 4, 4, 32)     16928       inception_4d[0][0]               \n",
            "__________________________________________________________________________________________________\n",
            "max_pooling2d_7 (MaxPooling2D)  (None, 4, 4, 528)    0           inception_4d[0][0]               \n",
            "__________________________________________________________________________________________________\n",
            "conv2d_39 (Conv2D)              (None, 4, 4, 256)    135424      inception_4d[0][0]               \n",
            "__________________________________________________________________________________________________\n",
            "conv2d_41 (Conv2D)              (None, 4, 4, 320)    461120      conv2d_40[0][0]                  \n",
            "__________________________________________________________________________________________________\n",
            "conv2d_43 (Conv2D)              (None, 4, 4, 128)    102528      conv2d_42[0][0]                  \n",
            "__________________________________________________________________________________________________\n",
            "conv2d_44 (Conv2D)              (None, 4, 4, 128)    67712       max_pooling2d_7[0][0]            \n",
            "__________________________________________________________________________________________________\n",
            "inception_4e (Concatenate)      (None, 4, 4, 832)    0           conv2d_39[0][0]                  \n",
            "                                                                 conv2d_41[0][0]                  \n",
            "                                                                 conv2d_43[0][0]                  \n",
            "                                                                 conv2d_44[0][0]                  \n",
            "__________________________________________________________________________________________________\n",
            "max_pool_4_3x3/2 (MaxPooling2D) (None, 2, 2, 832)    0           inception_4e[0][0]               \n",
            "__________________________________________________________________________________________________\n",
            "conv2d_46 (Conv2D)              (None, 2, 2, 160)    133280      max_pool_4_3x3/2[0][0]           \n",
            "__________________________________________________________________________________________________\n",
            "conv2d_48 (Conv2D)              (None, 2, 2, 32)     26656       max_pool_4_3x3/2[0][0]           \n",
            "__________________________________________________________________________________________________\n",
            "max_pooling2d_8 (MaxPooling2D)  (None, 2, 2, 832)    0           max_pool_4_3x3/2[0][0]           \n",
            "__________________________________________________________________________________________________\n",
            "conv2d_45 (Conv2D)              (None, 2, 2, 256)    213248      max_pool_4_3x3/2[0][0]           \n",
            "__________________________________________________________________________________________________\n",
            "conv2d_47 (Conv2D)              (None, 2, 2, 320)    461120      conv2d_46[0][0]                  \n",
            "__________________________________________________________________________________________________\n",
            "conv2d_49 (Conv2D)              (None, 2, 2, 128)    102528      conv2d_48[0][0]                  \n",
            "__________________________________________________________________________________________________\n",
            "conv2d_50 (Conv2D)              (None, 2, 2, 128)    106624      max_pooling2d_8[0][0]            \n",
            "__________________________________________________________________________________________________\n",
            "inception_5a (Concatenate)      (None, 2, 2, 832)    0           conv2d_45[0][0]                  \n",
            "                                                                 conv2d_47[0][0]                  \n",
            "                                                                 conv2d_49[0][0]                  \n",
            "                                                                 conv2d_50[0][0]                  \n",
            "__________________________________________________________________________________________________\n",
            "conv2d_52 (Conv2D)              (None, 2, 2, 192)    159936      inception_5a[0][0]               \n",
            "__________________________________________________________________________________________________\n",
            "conv2d_54 (Conv2D)              (None, 2, 2, 48)     39984       inception_5a[0][0]               \n",
            "__________________________________________________________________________________________________\n",
            "max_pooling2d_9 (MaxPooling2D)  (None, 2, 2, 832)    0           inception_5a[0][0]               \n",
            "__________________________________________________________________________________________________\n",
            "conv2d_51 (Conv2D)              (None, 2, 2, 384)    319872      inception_5a[0][0]               \n",
            "__________________________________________________________________________________________________\n",
            "conv2d_53 (Conv2D)              (None, 2, 2, 384)    663936      conv2d_52[0][0]                  \n",
            "__________________________________________________________________________________________________\n",
            "conv2d_55 (Conv2D)              (None, 2, 2, 128)    153728      conv2d_54[0][0]                  \n",
            "__________________________________________________________________________________________________\n",
            "conv2d_56 (Conv2D)              (None, 2, 2, 128)    106624      max_pooling2d_9[0][0]            \n",
            "__________________________________________________________________________________________________\n",
            "conv2d_19 (Conv2D)              (None, 4, 4, 128)    65664       inception_4a[0][0]               \n",
            "__________________________________________________________________________________________________\n",
            "conv2d_38 (Conv2D)              (None, 4, 4, 128)    67712       inception_4d[0][0]               \n",
            "__________________________________________________________________________________________________\n",
            "inception_5b (Concatenate)      (None, 2, 2, 1024)   0           conv2d_51[0][0]                  \n",
            "                                                                 conv2d_53[0][0]                  \n",
            "                                                                 conv2d_55[0][0]                  \n",
            "                                                                 conv2d_56[0][0]                  \n",
            "__________________________________________________________________________________________________\n",
            "flatten_1 (Flatten)             (None, 2048)         0           conv2d_19[0][0]                  \n",
            "__________________________________________________________________________________________________\n",
            "flatten_2 (Flatten)             (None, 2048)         0           conv2d_38[0][0]                  \n",
            "__________________________________________________________________________________________________\n",
            "avg_pool_5_3x3/1 (GlobalAverage (None, 1024)         0           inception_5b[0][0]               \n",
            "__________________________________________________________________________________________________\n",
            "dense_1 (Dense)                 (None, 1024)         2098176     flatten_1[0][0]                  \n",
            "__________________________________________________________________________________________________\n",
            "dense_2 (Dense)                 (None, 1024)         2098176     flatten_2[0][0]                  \n",
            "__________________________________________________________________________________________________\n",
            "dropout_3 (Dropout)             (None, 1024)         0           avg_pool_5_3x3/1[0][0]           \n",
            "__________________________________________________________________________________________________\n",
            "dropout_1 (Dropout)             (None, 1024)         0           dense_1[0][0]                    \n",
            "__________________________________________________________________________________________________\n",
            "dropout_2 (Dropout)             (None, 1024)         0           dense_2[0][0]                    \n",
            "__________________________________________________________________________________________________\n",
            "output (Dense)                  (None, 10)           10250       dropout_3[0][0]                  \n",
            "__________________________________________________________________________________________________\n",
            "auxilliary_output_1 (Dense)     (None, 10)           10250       dropout_1[0][0]                  \n",
            "__________________________________________________________________________________________________\n",
            "auxilliary_output_2 (Dense)     (None, 10)           10250       dropout_2[0][0]                  \n",
            "==================================================================================================\n",
            "Total params: 10,334,030\n",
            "Trainable params: 10,334,030\n",
            "Non-trainable params: 0\n",
            "__________________________________________________________________________________________________\n"
          ],
          "name": "stdout"
        }
      ]
    },
    {
      "metadata": {
        "id": "FBFYvKS8dXyU",
        "colab_type": "code",
        "colab": {}
      },
      "cell_type": "code",
      "source": [
        ""
      ],
      "execution_count": 0,
      "outputs": []
    },
    {
      "metadata": {
        "id": "L01ngzcugS2V",
        "colab_type": "code",
        "colab": {}
      },
      "cell_type": "code",
      "source": [
        "epochs = 25\n",
        "initial_lrate = 0.01\n",
        "\n",
        "def decay(epoch, steps=100):\n",
        "    initial_lrate = 0.01\n",
        "    drop = 0.96\n",
        "    epochs_drop = 8\n",
        "    lrate = initial_lrate * math.pow(drop, math.floor((1+epoch)/epochs_drop))\n",
        "    return lrate\n",
        "\n",
        "sgd = SGD(lr=initial_lrate, momentum=0.9, nesterov=False)\n"
      ],
      "execution_count": 0,
      "outputs": []
    },
    {
      "metadata": {
        "id": "_LzDSbF-hSrS",
        "colab_type": "code",
        "colab": {}
      },
      "cell_type": "code",
      "source": [
        "\n",
        "lr_sc = LearningRateScheduler(decay, verbose=1)\n",
        "model.compile(loss=['categorical_crossentropy', 'categorical_crossentropy', 'categorical_crossentropy'], \n",
        "             loss_weights=[1, 0.3, 0.3], optimizer=sgd, metrics=['accuracy'])"
      ],
      "execution_count": 0,
      "outputs": []
    },
    {
      "metadata": {
        "id": "EpqeaRHjhjwo",
        "colab_type": "code",
        "colab": {
          "base_uri": "https://localhost:8080/",
          "height": 1843
        },
        "outputId": "32fc803a-129e-43dc-ccee-c97149ad6445"
      },
      "cell_type": "code",
      "source": [
        "history = model.fit(X_train, [y_train, y_train, y_train], validation_data=(X_test, [y_test, y_test, y_test]), epochs=epochs, batch_size=256, callbacks=[lr_sc])"
      ],
      "execution_count": 16,
      "outputs": [
        {
          "output_type": "stream",
          "text": [
            "WARNING:tensorflow:From /usr/local/lib/python3.6/dist-packages/tensorflow/python/ops/math_ops.py:3066: to_int32 (from tensorflow.python.ops.math_ops) is deprecated and will be removed in a future version.\n",
            "Instructions for updating:\n",
            "Use tf.cast instead.\n",
            "Train on 50000 samples, validate on 10000 samples\n",
            "Epoch 1/25\n",
            "\n",
            "Epoch 00001: LearningRateScheduler setting learning rate to 0.01.\n",
            "50000/50000 [==============================] - 32s 649us/step - loss: 3.5887 - output_loss: 2.2489 - auxilliary_output_1_loss: 2.2255 - auxilliary_output_2_loss: 2.2406 - output_acc: 0.1433 - auxilliary_output_1_acc: 0.1564 - auxilliary_output_2_acc: 0.1448 - val_loss: 3.2288 - val_output_loss: 2.0255 - val_auxilliary_output_1_loss: 1.9837 - val_auxilliary_output_2_loss: 2.0273 - val_output_acc: 0.2337 - val_auxilliary_output_1_acc: 0.2656 - val_auxilliary_output_2_acc: 0.2349\n",
            "Epoch 2/25\n",
            "\n",
            "Epoch 00002: LearningRateScheduler setting learning rate to 0.01.\n",
            "50000/50000 [==============================] - 21s 424us/step - loss: 2.9734 - output_loss: 1.8581 - auxilliary_output_1_loss: 1.8446 - auxilliary_output_2_loss: 1.8734 - output_acc: 0.2969 - auxilliary_output_1_acc: 0.3087 - auxilliary_output_2_acc: 0.2911 - val_loss: 2.6920 - val_output_loss: 1.6928 - val_auxilliary_output_1_loss: 1.6392 - val_auxilliary_output_2_loss: 1.6912 - val_output_acc: 0.3673 - val_auxilliary_output_1_acc: 0.3901 - val_auxilliary_output_2_acc: 0.3702\n",
            "Epoch 3/25\n",
            "\n",
            "Epoch 00003: LearningRateScheduler setting learning rate to 0.01.\n",
            "50000/50000 [==============================] - 22s 434us/step - loss: 2.6177 - output_loss: 1.6374 - auxilliary_output_1_loss: 1.6221 - auxilliary_output_2_loss: 1.6455 - output_acc: 0.3831 - auxilliary_output_1_acc: 0.3941 - auxilliary_output_2_acc: 0.3862 - val_loss: 2.3633 - val_output_loss: 1.4805 - val_auxilliary_output_1_loss: 1.4612 - val_auxilliary_output_2_loss: 1.4816 - val_output_acc: 0.4424 - val_auxilliary_output_1_acc: 0.4549 - val_auxilliary_output_2_acc: 0.4441\n",
            "Epoch 4/25\n",
            "\n",
            "Epoch 00004: LearningRateScheduler setting learning rate to 0.01.\n",
            "50000/50000 [==============================] - 22s 446us/step - loss: 2.3524 - output_loss: 1.4699 - auxilliary_output_1_loss: 1.4607 - auxilliary_output_2_loss: 1.4809 - output_acc: 0.4585 - auxilliary_output_1_acc: 0.4594 - auxilliary_output_2_acc: 0.4541 - val_loss: 2.1785 - val_output_loss: 1.3795 - val_auxilliary_output_1_loss: 1.3191 - val_auxilliary_output_2_loss: 1.3440 - val_output_acc: 0.4848 - val_auxilliary_output_1_acc: 0.5209 - val_auxilliary_output_2_acc: 0.5078\n",
            "Epoch 5/25\n",
            "\n",
            "Epoch 00005: LearningRateScheduler setting learning rate to 0.01.\n",
            "50000/50000 [==============================] - 23s 453us/step - loss: 2.1226 - output_loss: 1.3247 - auxilliary_output_1_loss: 1.3283 - auxilliary_output_2_loss: 1.3316 - output_acc: 0.5171 - auxilliary_output_1_acc: 0.5143 - auxilliary_output_2_acc: 0.5168 - val_loss: 2.1033 - val_output_loss: 1.3404 - val_auxilliary_output_1_loss: 1.2413 - val_auxilliary_output_2_loss: 1.3015 - val_output_acc: 0.5134 - val_auxilliary_output_1_acc: 0.5443 - val_auxilliary_output_2_acc: 0.5295\n",
            "Epoch 6/25\n",
            "\n",
            "Epoch 00006: LearningRateScheduler setting learning rate to 0.01.\n",
            "50000/50000 [==============================] - 22s 447us/step - loss: 1.9502 - output_loss: 1.2163 - auxilliary_output_1_loss: 1.2202 - auxilliary_output_2_loss: 1.2261 - output_acc: 0.5611 - auxilliary_output_1_acc: 0.5570 - auxilliary_output_2_acc: 0.5574 - val_loss: 1.9183 - val_output_loss: 1.2140 - val_auxilliary_output_1_loss: 1.1632 - val_auxilliary_output_2_loss: 1.1845 - val_output_acc: 0.5743 - val_auxilliary_output_1_acc: 0.5812 - val_auxilliary_output_2_acc: 0.5793\n",
            "Epoch 7/25\n",
            "\n",
            "Epoch 00007: LearningRateScheduler setting learning rate to 0.01.\n",
            "50000/50000 [==============================] - 22s 445us/step - loss: 1.7343 - output_loss: 1.0767 - auxilliary_output_1_loss: 1.1012 - auxilliary_output_2_loss: 1.0908 - output_acc: 0.6152 - auxilliary_output_1_acc: 0.6049 - auxilliary_output_2_acc: 0.6108 - val_loss: 1.7747 - val_output_loss: 1.1247 - val_auxilliary_output_1_loss: 1.0720 - val_auxilliary_output_2_loss: 1.0947 - val_output_acc: 0.5861 - val_auxilliary_output_1_acc: 0.6042 - val_auxilliary_output_2_acc: 0.5986\n",
            "Epoch 8/25\n",
            "\n",
            "Epoch 00008: LearningRateScheduler setting learning rate to 0.0096.\n",
            "50000/50000 [==============================] - 22s 447us/step - loss: 1.5884 - output_loss: 0.9851 - auxilliary_output_1_loss: 1.0141 - auxilliary_output_2_loss: 0.9971 - output_acc: 0.6480 - auxilliary_output_1_acc: 0.6385 - auxilliary_output_2_acc: 0.6447 - val_loss: 1.5516 - val_output_loss: 0.9751 - val_auxilliary_output_1_loss: 0.9583 - val_auxilliary_output_2_loss: 0.9636 - val_output_acc: 0.6509 - val_auxilliary_output_1_acc: 0.6546 - val_auxilliary_output_2_acc: 0.6559\n",
            "Epoch 9/25\n",
            "\n",
            "Epoch 00009: LearningRateScheduler setting learning rate to 0.0096.\n",
            "50000/50000 [==============================] - 23s 450us/step - loss: 1.4419 - output_loss: 0.8924 - auxilliary_output_1_loss: 0.9259 - auxilliary_output_2_loss: 0.9057 - output_acc: 0.6834 - auxilliary_output_1_acc: 0.6714 - auxilliary_output_2_acc: 0.6812 - val_loss: 1.6238 - val_output_loss: 1.0183 - val_auxilliary_output_1_loss: 0.9881 - val_auxilliary_output_2_loss: 1.0304 - val_output_acc: 0.6444 - val_auxilliary_output_1_acc: 0.6563 - val_auxilliary_output_2_acc: 0.6420\n",
            "Epoch 10/25\n",
            "\n",
            "Epoch 00010: LearningRateScheduler setting learning rate to 0.0096.\n",
            "50000/50000 [==============================] - 22s 447us/step - loss: 1.3159 - output_loss: 0.8111 - auxilliary_output_1_loss: 0.8550 - auxilliary_output_2_loss: 0.8277 - output_acc: 0.7130 - auxilliary_output_1_acc: 0.6978 - auxilliary_output_2_acc: 0.7094 - val_loss: 1.3862 - val_output_loss: 0.8738 - val_auxilliary_output_1_loss: 0.8622 - val_auxilliary_output_2_loss: 0.8460 - val_output_acc: 0.6956 - val_auxilliary_output_1_acc: 0.6987 - val_auxilliary_output_2_acc: 0.7034\n",
            "Epoch 11/25\n",
            "\n",
            "Epoch 00011: LearningRateScheduler setting learning rate to 0.0096.\n",
            "50000/50000 [==============================] - 22s 447us/step - loss: 1.2107 - output_loss: 0.7460 - auxilliary_output_1_loss: 0.7869 - auxilliary_output_2_loss: 0.7620 - output_acc: 0.7374 - auxilliary_output_1_acc: 0.7230 - auxilliary_output_2_acc: 0.7333 - val_loss: 1.4040 - val_output_loss: 0.8733 - val_auxilliary_output_1_loss: 0.8978 - val_auxilliary_output_2_loss: 0.8710 - val_output_acc: 0.6942 - val_auxilliary_output_1_acc: 0.6829 - val_auxilliary_output_2_acc: 0.6962\n",
            "Epoch 12/25\n",
            "\n",
            "Epoch 00012: LearningRateScheduler setting learning rate to 0.0096.\n",
            "50000/50000 [==============================] - 22s 446us/step - loss: 1.1070 - output_loss: 0.6810 - auxilliary_output_1_loss: 0.7244 - auxilliary_output_2_loss: 0.6956 - output_acc: 0.7611 - auxilliary_output_1_acc: 0.7475 - auxilliary_output_2_acc: 0.7590 - val_loss: 1.5438 - val_output_loss: 0.9835 - val_auxilliary_output_1_loss: 0.9078 - val_auxilliary_output_2_loss: 0.9600 - val_output_acc: 0.6787 - val_auxilliary_output_1_acc: 0.6942 - val_auxilliary_output_2_acc: 0.6878\n",
            "Epoch 13/25\n",
            "\n",
            "Epoch 00013: LearningRateScheduler setting learning rate to 0.0096.\n",
            "50000/50000 [==============================] - 22s 447us/step - loss: 1.0349 - output_loss: 0.6349 - auxilliary_output_1_loss: 0.6830 - auxilliary_output_2_loss: 0.6503 - output_acc: 0.7765 - auxilliary_output_1_acc: 0.7609 - auxilliary_output_2_acc: 0.7749 - val_loss: 1.3171 - val_output_loss: 0.8374 - val_auxilliary_output_1_loss: 0.7754 - val_auxilliary_output_2_loss: 0.8236 - val_output_acc: 0.7246 - val_auxilliary_output_1_acc: 0.7336 - val_auxilliary_output_2_acc: 0.7266\n",
            "Epoch 14/25\n",
            "\n",
            "Epoch 00014: LearningRateScheduler setting learning rate to 0.0096.\n",
            "50000/50000 [==============================] - 22s 447us/step - loss: 0.9571 - output_loss: 0.5872 - auxilliary_output_1_loss: 0.6328 - auxilliary_output_2_loss: 0.6001 - output_acc: 0.7961 - auxilliary_output_1_acc: 0.7803 - auxilliary_output_2_acc: 0.7927 - val_loss: 1.2619 - val_output_loss: 0.7982 - val_auxilliary_output_1_loss: 0.7586 - val_auxilliary_output_2_loss: 0.7871 - val_output_acc: 0.7307 - val_auxilliary_output_1_acc: 0.7370 - val_auxilliary_output_2_acc: 0.7280\n",
            "Epoch 15/25\n",
            "\n",
            "Epoch 00015: LearningRateScheduler setting learning rate to 0.0096.\n",
            "50000/50000 [==============================] - 22s 449us/step - loss: 0.8571 - output_loss: 0.5239 - auxilliary_output_1_loss: 0.5729 - auxilliary_output_2_loss: 0.5377 - output_acc: 0.8190 - auxilliary_output_1_acc: 0.8015 - auxilliary_output_2_acc: 0.8151 - val_loss: 1.1854 - val_output_loss: 0.7435 - val_auxilliary_output_1_loss: 0.7348 - val_auxilliary_output_2_loss: 0.7381 - val_output_acc: 0.7491 - val_auxilliary_output_1_acc: 0.7475 - val_auxilliary_output_2_acc: 0.7495\n",
            "Epoch 16/25\n",
            "\n",
            "Epoch 00016: LearningRateScheduler setting learning rate to 0.009216.\n",
            "50000/50000 [==============================] - 22s 447us/step - loss: 0.7902 - output_loss: 0.4817 - auxilliary_output_1_loss: 0.5333 - auxilliary_output_2_loss: 0.4950 - output_acc: 0.8323 - auxilliary_output_1_acc: 0.8141 - auxilliary_output_2_acc: 0.8295 - val_loss: 1.2740 - val_output_loss: 0.8057 - val_auxilliary_output_1_loss: 0.7747 - val_auxilliary_output_2_loss: 0.7863 - val_output_acc: 0.7381 - val_auxilliary_output_1_acc: 0.7442 - val_auxilliary_output_2_acc: 0.7411\n",
            "Epoch 17/25\n",
            "\n",
            "Epoch 00017: LearningRateScheduler setting learning rate to 0.009216.\n",
            "50000/50000 [==============================] - 22s 447us/step - loss: 0.6841 - output_loss: 0.4130 - auxilliary_output_1_loss: 0.4738 - auxilliary_output_2_loss: 0.4298 - output_acc: 0.8579 - auxilliary_output_1_acc: 0.8375 - auxilliary_output_2_acc: 0.8537 - val_loss: 1.5563 - val_output_loss: 0.9887 - val_auxilliary_output_1_loss: 0.9134 - val_auxilliary_output_2_loss: 0.9787 - val_output_acc: 0.6964 - val_auxilliary_output_1_acc: 0.7053 - val_auxilliary_output_2_acc: 0.6955\n",
            "Epoch 18/25\n",
            "\n",
            "Epoch 00018: LearningRateScheduler setting learning rate to 0.009216.\n",
            "50000/50000 [==============================] - 22s 448us/step - loss: 0.6224 - output_loss: 0.3743 - auxilliary_output_1_loss: 0.4370 - auxilliary_output_2_loss: 0.3900 - output_acc: 0.8699 - auxilliary_output_1_acc: 0.8502 - auxilliary_output_2_acc: 0.8663 - val_loss: 1.3782 - val_output_loss: 0.8727 - val_auxilliary_output_1_loss: 0.8217 - val_auxilliary_output_2_loss: 0.8633 - val_output_acc: 0.7358 - val_auxilliary_output_1_acc: 0.7384 - val_auxilliary_output_2_acc: 0.7369\n",
            "Epoch 19/25\n",
            "\n",
            "Epoch 00019: LearningRateScheduler setting learning rate to 0.009216.\n",
            "50000/50000 [==============================] - 22s 447us/step - loss: 0.5842 - output_loss: 0.3518 - auxilliary_output_1_loss: 0.4115 - auxilliary_output_2_loss: 0.3632 - output_acc: 0.8761 - auxilliary_output_1_acc: 0.8577 - auxilliary_output_2_acc: 0.8741 - val_loss: 1.3447 - val_output_loss: 0.8573 - val_auxilliary_output_1_loss: 0.7790 - val_auxilliary_output_2_loss: 0.8455 - val_output_acc: 0.7396 - val_auxilliary_output_1_acc: 0.7495 - val_auxilliary_output_2_acc: 0.7411\n",
            "Epoch 20/25\n",
            "\n",
            "Epoch 00020: LearningRateScheduler setting learning rate to 0.009216.\n",
            "50000/50000 [==============================] - 22s 447us/step - loss: 0.5105 - output_loss: 0.3046 - auxilliary_output_1_loss: 0.3676 - auxilliary_output_2_loss: 0.3187 - output_acc: 0.8955 - auxilliary_output_1_acc: 0.8721 - auxilliary_output_2_acc: 0.8899 - val_loss: 1.3305 - val_output_loss: 0.8471 - val_auxilliary_output_1_loss: 0.7940 - val_auxilliary_output_2_loss: 0.8172 - val_output_acc: 0.7503 - val_auxilliary_output_1_acc: 0.7574 - val_auxilliary_output_2_acc: 0.7567\n",
            "Epoch 21/25\n",
            "\n",
            "Epoch 00021: LearningRateScheduler setting learning rate to 0.009216.\n",
            "50000/50000 [==============================] - 22s 448us/step - loss: 0.4905 - output_loss: 0.2934 - auxilliary_output_1_loss: 0.3514 - auxilliary_output_2_loss: 0.3057 - output_acc: 0.8967 - auxilliary_output_1_acc: 0.8773 - auxilliary_output_2_acc: 0.8946 - val_loss: 1.3295 - val_output_loss: 0.8398 - val_auxilliary_output_1_loss: 0.8067 - val_auxilliary_output_2_loss: 0.8256 - val_output_acc: 0.7447 - val_auxilliary_output_1_acc: 0.7521 - val_auxilliary_output_2_acc: 0.7466\n",
            "Epoch 22/25\n",
            "\n",
            "Epoch 00022: LearningRateScheduler setting learning rate to 0.009216.\n",
            "50000/50000 [==============================] - 22s 448us/step - loss: 0.4410 - output_loss: 0.2621 - auxilliary_output_1_loss: 0.3212 - auxilliary_output_2_loss: 0.2749 - output_acc: 0.9085 - auxilliary_output_1_acc: 0.8885 - auxilliary_output_2_acc: 0.9054 - val_loss: 1.4278 - val_output_loss: 0.9133 - val_auxilliary_output_1_loss: 0.8171 - val_auxilliary_output_2_loss: 0.8982 - val_output_acc: 0.7432 - val_auxilliary_output_1_acc: 0.7573 - val_auxilliary_output_2_acc: 0.7454\n",
            "Epoch 23/25\n",
            "\n",
            "Epoch 00023: LearningRateScheduler setting learning rate to 0.009216.\n",
            "50000/50000 [==============================] - 22s 448us/step - loss: 0.3944 - output_loss: 0.2333 - auxilliary_output_1_loss: 0.2908 - auxilliary_output_2_loss: 0.2462 - output_acc: 0.9188 - auxilliary_output_1_acc: 0.8988 - auxilliary_output_2_acc: 0.9148 - val_loss: 1.5847 - val_output_loss: 0.9973 - val_auxilliary_output_1_loss: 0.9785 - val_auxilliary_output_2_loss: 0.9797 - val_output_acc: 0.7031 - val_auxilliary_output_1_acc: 0.7167 - val_auxilliary_output_2_acc: 0.7119\n",
            "Epoch 24/25\n",
            "\n",
            "Epoch 00024: LearningRateScheduler setting learning rate to 0.008847359999999999.\n",
            "50000/50000 [==============================] - 22s 446us/step - loss: 0.3392 - output_loss: 0.1991 - auxilliary_output_1_loss: 0.2547 - auxilliary_output_2_loss: 0.2123 - output_acc: 0.9296 - auxilliary_output_1_acc: 0.9110 - auxilliary_output_2_acc: 0.9262 - val_loss: 1.4481 - val_output_loss: 0.9154 - val_auxilliary_output_1_loss: 0.8618 - val_auxilliary_output_2_loss: 0.9139 - val_output_acc: 0.7649 - val_auxilliary_output_1_acc: 0.7647 - val_auxilliary_output_2_acc: 0.7648\n",
            "Epoch 25/25\n",
            "\n",
            "Epoch 00025: LearningRateScheduler setting learning rate to 0.008847359999999999.\n",
            "50000/50000 [==============================] - 22s 447us/step - loss: 0.2861 - output_loss: 0.1665 - auxilliary_output_1_loss: 0.2214 - auxilliary_output_2_loss: 0.1772 - output_acc: 0.9426 - auxilliary_output_1_acc: 0.9219 - auxilliary_output_2_acc: 0.9394 - val_loss: 1.6028 - val_output_loss: 1.0123 - val_auxilliary_output_1_loss: 0.9586 - val_auxilliary_output_2_loss: 1.0100 - val_output_acc: 0.7518 - val_auxilliary_output_1_acc: 0.7564 - val_auxilliary_output_2_acc: 0.7518\n"
          ],
          "name": "stdout"
        }
      ]
    },
    {
      "metadata": {
        "id": "tp0AqLEihobj",
        "colab_type": "code",
        "colab": {}
      },
      "cell_type": "code",
      "source": [
        ""
      ],
      "execution_count": 0,
      "outputs": []
    }
  ]
}